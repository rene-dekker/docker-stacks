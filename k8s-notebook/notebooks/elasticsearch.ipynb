{
 "cells": [
  {
   "cell_type": "markdown",
   "id": "e7608d2e",
   "metadata": {},
   "source": [
    "# Getting started with Kubernetes and Elasticsearch\n",
    "Read more about the API specifications:\n",
    "- https://elasticsearch-py.readthedocs.io/\n",
    "- https://github.com/kubernetes-client/python/blob/release-9.0/kubernetes/docs/"
   ]
  },
  {
   "cell_type": "markdown",
   "id": "4c81c6af",
   "metadata": {},
   "source": [
    "### Import python libraries"
   ]
  },
  {
   "cell_type": "code",
   "execution_count": null,
   "id": "62bd76fb",
   "metadata": {},
   "outputs": [],
   "source": [
    "from elasticsearch import Elasticsearch\n",
    "from kubernetes import client, config\n",
    "from ssl import create_default_context\n",
    "import base64"
   ]
  },
  {
   "cell_type": "markdown",
   "id": "71b50442",
   "metadata": {},
   "source": [
    "### Create k8s client"
   ]
  },
  {
   "cell_type": "code",
   "execution_count": null,
   "id": "319cb6e4",
   "metadata": {},
   "outputs": [],
   "source": [
    "config.load_incluster_config()\n",
    "corev1 = client.CoreV1Api()"
   ]
  },
  {
   "cell_type": "markdown",
   "id": "66232039",
   "metadata": {},
   "source": [
    "### Retrieve the Elasticsearch password using the k8s client"
   ]
  },
  {
   "cell_type": "code",
   "execution_count": null,
   "id": "87efc007",
   "metadata": {},
   "outputs": [],
   "source": [
    "es_host='https://tigera-secure-es-http.tigera-elasticsearch.svc.cluster.local:9200'\n",
    "kb_host='https://tigera-secure-kb-http.tigera-kibana.svc.cluster.local:5601/tigera-kibana'\n",
    "\n",
    "user='elastic'\n",
    "password_b64  = corev1.read_namespaced_secret(name='tigera-secure-es-elastic-user', namespace = 'tigera-elasticsearch').data[user]\n",
    "password = base64.b64decode(password_b64).decode('utf-8')\n",
    "print(password)\n",
    "cert_b64  = corev1.read_namespaced_secret(name='tigera-secure-es-http-certs-public', namespace = 'tigera-elasticsearch').data[\"tls.crt\"]\n",
    "cert = base64.b64decode(cert_b64).decode('utf-8')\n",
    "print(cert)\n",
    "with open('elastic.crt', 'w') as f:\n",
    "    f.write(cert)\n",
    "    f.close()\n"
   ]
  },
  {
   "cell_type": "markdown",
   "id": "fe113381",
   "metadata": {},
   "source": [
    "### Instantiate the elasticsearch client"
   ]
  },
  {
   "cell_type": "code",
   "execution_count": null,
   "id": "30703863",
   "metadata": {},
   "outputs": [],
   "source": [
    "context = create_default_context(cafile=\"elastic.crt\")\n",
    "es = Elasticsearch([es_host], \n",
    "                   http_auth=('elastic', password),\n",
    "                  scheme='https',\n",
    "                  port=9200,\n",
    "                  ssl_context = context)\n"
   ]
  },
  {
   "cell_type": "markdown",
   "id": "4e180fca",
   "metadata": {},
   "source": [
    "### Show Elasticsearch info\n",
    "Show some global information about your cluster.\n"
   ]
  },
  {
   "cell_type": "code",
   "execution_count": null,
   "id": "5816a10f",
   "metadata": {},
   "outputs": [],
   "source": [
    "es.info()"
   ]
  },
  {
   "cell_type": "markdown",
   "id": "0b4dabb0",
   "metadata": {},
   "source": [
    "Gives more information about the health of the cluster:\n",
    "- The status should be green.\n",
    "\n",
    "- All shards should be assigned\n",
    "\n",
    "- If the cluster is yellow, it is up and available, but not all data may be accessible or replicated."
   ]
  },
  {
   "cell_type": "code",
   "execution_count": null,
   "id": "cd14182e",
   "metadata": {},
   "outputs": [],
   "source": [
    "es.cluster.health()"
   ]
  },
  {
   "cell_type": "code",
   "execution_count": null,
   "id": "8001dcaf",
   "metadata": {},
   "outputs": [],
   "source": [
    "print(es.cat.health(v=True))"
   ]
  },
  {
   "cell_type": "code",
   "execution_count": null,
   "id": "37338f55",
   "metadata": {},
   "outputs": [],
   "source": [
    "print(es.cat.indices(v=True))"
   ]
  },
  {
   "cell_type": "code",
   "execution_count": null,
   "id": "9a43fc9d",
   "metadata": {},
   "outputs": [],
   "source": [
    "print(es.cat.allocation(v=True))"
   ]
  },
  {
   "cell_type": "code",
   "execution_count": null,
   "id": "22b55304",
   "metadata": {},
   "outputs": [],
   "source": [
    "print(es.cat.nodes(v=True))"
   ]
  },
  {
   "cell_type": "code",
   "execution_count": null,
   "id": "5503ec5f",
   "metadata": {},
   "outputs": [],
   "source": [
    "print(es.cat.shards(v=True))"
   ]
  },
  {
   "cell_type": "markdown",
   "id": "a13e4a9e",
   "metadata": {},
   "source": [
    "Check the cluster settings. This can be useful if you are debugging OIDC or certificate related stuff."
   ]
  },
  {
   "cell_type": "code",
   "execution_count": null,
   "id": "5732c049",
   "metadata": {},
   "outputs": [],
   "source": [
    "es.cluster.get_settings()"
   ]
  },
  {
   "cell_type": "code",
   "execution_count": null,
   "id": "53bc8132",
   "metadata": {},
   "outputs": [],
   "source": [
    "oidc_trace_log_settings = '{\"transient\" : {\"logger.org.elasticsearch.xpack.security.authc.oidc\": \"trace\"}}'\n",
    "es.cluster.put_settings(oidc_trace_log_settings)"
   ]
  },
  {
   "cell_type": "code",
   "execution_count": null,
   "id": "c1b107bd",
   "metadata": {},
   "outputs": [],
   "source": [
    "es."
   ]
  }
 ],
 "metadata": {
  "kernelspec": {
   "display_name": "Python 3",
   "language": "python",
   "name": "python3"
  },
  "language_info": {
   "codemirror_mode": {
    "name": "ipython",
    "version": 3
   },
   "file_extension": ".py",
   "mimetype": "text/x-python",
   "name": "python",
   "nbconvert_exporter": "python",
   "pygments_lexer": "ipython3",
   "version": "3.8.8"
  }
 },
 "nbformat": 4,
 "nbformat_minor": 5
}
